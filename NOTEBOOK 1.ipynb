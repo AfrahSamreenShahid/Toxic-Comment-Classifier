{
 "cells": [
  {
   "cell_type": "code",
   "execution_count": 2,
   "metadata": {
    "id": "YGpoXO94clvq"
   },
   "outputs": [],
   "source": [
    "import numpy as np\n",
    "import pandas as pd"
   ]
  },
  {
   "cell_type": "code",
   "execution_count": 3,
   "metadata": {
    "id": "qV0whPLVfMVf"
   },
   "outputs": [],
   "source": [
    "# Load the dataset\n",
    "data = pd.read_csv(\"toxic comments.csv\")"
   ]
  },
  {
   "cell_type": "code",
   "execution_count": 4,
   "metadata": {
    "colab": {
     "base_uri": "https://localhost:8080/",
     "height": 143
    },
    "id": "hq7rHLTWfIV2",
    "outputId": "ec4ac371-a710-4441-dd35-b1a2561f5ba3"
   },
   "outputs": [
    {
     "data": {
      "text/html": [
       "<div>\n",
       "<style scoped>\n",
       "    .dataframe tbody tr th:only-of-type {\n",
       "        vertical-align: middle;\n",
       "    }\n",
       "\n",
       "    .dataframe tbody tr th {\n",
       "        vertical-align: top;\n",
       "    }\n",
       "\n",
       "    .dataframe thead th {\n",
       "        text-align: right;\n",
       "    }\n",
       "</style>\n",
       "<table border=\"1\" class=\"dataframe\">\n",
       "  <thead>\n",
       "    <tr style=\"text-align: right;\">\n",
       "      <th></th>\n",
       "      <th>Text</th>\n",
       "      <th>IsToxic</th>\n",
       "      <th>IsAbusive</th>\n",
       "      <th>IsThreat</th>\n",
       "      <th>IsProvocative</th>\n",
       "      <th>IsObscene</th>\n",
       "      <th>IsHatespeech</th>\n",
       "      <th>IsRacist</th>\n",
       "      <th>IsReligiousHate</th>\n",
       "    </tr>\n",
       "  </thead>\n",
       "  <tbody>\n",
       "    <tr>\n",
       "      <th>0</th>\n",
       "      <td>If only people would just take a step back and...</td>\n",
       "      <td>False</td>\n",
       "      <td>False</td>\n",
       "      <td>False</td>\n",
       "      <td>False</td>\n",
       "      <td>False</td>\n",
       "      <td>False</td>\n",
       "      <td>False</td>\n",
       "      <td>False</td>\n",
       "    </tr>\n",
       "    <tr>\n",
       "      <th>1</th>\n",
       "      <td>Law enforcement is not trained to shoot to app...</td>\n",
       "      <td>True</td>\n",
       "      <td>True</td>\n",
       "      <td>False</td>\n",
       "      <td>False</td>\n",
       "      <td>False</td>\n",
       "      <td>False</td>\n",
       "      <td>False</td>\n",
       "      <td>False</td>\n",
       "    </tr>\n",
       "    <tr>\n",
       "      <th>2</th>\n",
       "      <td>\\nDont you reckon them 'black lives matter' ba...</td>\n",
       "      <td>True</td>\n",
       "      <td>True</td>\n",
       "      <td>False</td>\n",
       "      <td>False</td>\n",
       "      <td>True</td>\n",
       "      <td>False</td>\n",
       "      <td>False</td>\n",
       "      <td>False</td>\n",
       "    </tr>\n",
       "  </tbody>\n",
       "</table>\n",
       "</div>"
      ],
      "text/plain": [
       "                                                Text  IsToxic  IsAbusive  \\\n",
       "0  If only people would just take a step back and...    False      False   \n",
       "1  Law enforcement is not trained to shoot to app...     True       True   \n",
       "2  \\nDont you reckon them 'black lives matter' ba...     True       True   \n",
       "\n",
       "   IsThreat  IsProvocative  IsObscene  IsHatespeech  IsRacist  IsReligiousHate  \n",
       "0     False          False      False         False     False            False  \n",
       "1     False          False      False         False     False            False  \n",
       "2     False          False       True         False     False            False  "
      ]
     },
     "execution_count": 4,
     "metadata": {},
     "output_type": "execute_result"
    }
   ],
   "source": [
    "data.drop([\"IsRadicalism\", \"IsHomophobic\", \"IsSexist\", \"IsNationalist\",'CommentId', 'VideoId'],\n",
    "          axis = 1, inplace = True)\n",
    "data.head(3)"
   ]
  },
  {
   "cell_type": "code",
   "execution_count": 5,
   "metadata": {
    "colab": {
     "base_uri": "https://localhost:8080/",
     "height": 143
    },
    "id": "0N6YE87kfIX-",
    "outputId": "c1b7f40f-17f2-4767-809f-8bd739223fee"
   },
   "outputs": [
    {
     "data": {
      "text/html": [
       "<div>\n",
       "<style scoped>\n",
       "    .dataframe tbody tr th:only-of-type {\n",
       "        vertical-align: middle;\n",
       "    }\n",
       "\n",
       "    .dataframe tbody tr th {\n",
       "        vertical-align: top;\n",
       "    }\n",
       "\n",
       "    .dataframe thead th {\n",
       "        text-align: right;\n",
       "    }\n",
       "</style>\n",
       "<table border=\"1\" class=\"dataframe\">\n",
       "  <thead>\n",
       "    <tr style=\"text-align: right;\">\n",
       "      <th></th>\n",
       "      <th>IsAbusive</th>\n",
       "      <th>IsThreat</th>\n",
       "      <th>IsProvocative</th>\n",
       "      <th>IsObscene</th>\n",
       "      <th>IsHatespeech</th>\n",
       "      <th>IsRacist</th>\n",
       "      <th>IsReligiousHate</th>\n",
       "    </tr>\n",
       "  </thead>\n",
       "  <tbody>\n",
       "    <tr>\n",
       "      <th>0</th>\n",
       "      <td>False</td>\n",
       "      <td>False</td>\n",
       "      <td>False</td>\n",
       "      <td>False</td>\n",
       "      <td>False</td>\n",
       "      <td>False</td>\n",
       "      <td>False</td>\n",
       "    </tr>\n",
       "    <tr>\n",
       "      <th>1</th>\n",
       "      <td>True</td>\n",
       "      <td>False</td>\n",
       "      <td>False</td>\n",
       "      <td>False</td>\n",
       "      <td>False</td>\n",
       "      <td>False</td>\n",
       "      <td>False</td>\n",
       "    </tr>\n",
       "    <tr>\n",
       "      <th>2</th>\n",
       "      <td>True</td>\n",
       "      <td>False</td>\n",
       "      <td>False</td>\n",
       "      <td>True</td>\n",
       "      <td>False</td>\n",
       "      <td>False</td>\n",
       "      <td>False</td>\n",
       "    </tr>\n",
       "  </tbody>\n",
       "</table>\n",
       "</div>"
      ],
      "text/plain": [
       "   IsAbusive  IsThreat  IsProvocative  IsObscene  IsHatespeech  IsRacist  \\\n",
       "0      False     False          False      False         False     False   \n",
       "1       True     False          False      False         False     False   \n",
       "2       True     False          False       True         False     False   \n",
       "\n",
       "   IsReligiousHate  \n",
       "0            False  \n",
       "1            False  \n",
       "2            False  "
      ]
     },
     "execution_count": 5,
     "metadata": {},
     "output_type": "execute_result"
    }
   ],
   "source": [
    "binary_features = data.drop([\"Text\", \"IsToxic\"], axis = 1)\n",
    "binary_features.head(3)"
   ]
  },
  {
   "cell_type": "code",
   "execution_count": 6,
   "metadata": {
    "colab": {
     "base_uri": "https://localhost:8080/"
    },
    "id": "Vb5jhF-GfIaY",
    "outputId": "9f8b7beb-2235-46fc-9b9c-8e7ca2c3df85"
   },
   "outputs": [
    {
     "data": {
      "text/plain": [
       "Index(['IsAbusive', 'IsThreat', 'IsProvocative', 'IsObscene', 'IsHatespeech',\n",
       "       'IsRacist', 'IsReligiousHate'],\n",
       "      dtype='object')"
      ]
     },
     "execution_count": 6,
     "metadata": {},
     "output_type": "execute_result"
    }
   ],
   "source": [
    "binary_features.columns"
   ]
  },
  {
   "cell_type": "code",
   "execution_count": 7,
   "metadata": {
    "id": "NIa4zFNqfIcz"
   },
   "outputs": [],
   "source": [
    "from sklearn.model_selection import train_test_split\n",
    "from sklearn.feature_extraction.text import TfidfVectorizer\n",
    "\n",
    "np.random.seed(0)\n",
    "\n",
    "Text_feature = data[\"Text\"]\n",
    "target = data[\"IsToxic\"]\n",
    "\n",
    "comments_train, comments_test, y_train, y_test = train_test_split(Text_feature, target,\n",
    "                                                                  test_size=0.15, stratify=target, random_state = 42)\n",
    "\n",
    "vectorizer = TfidfVectorizer(max_features=2500, min_df=8, max_df=0.8)\n",
    "vectorizer.fit(comments_train)\n",
    "\n",
    "x_train = vectorizer.transform(comments_train)\n",
    "x_test = vectorizer.transform(comments_test)"
   ]
  },
  {
   "cell_type": "code",
   "execution_count": 8,
   "metadata": {
    "colab": {
     "base_uri": "https://localhost:8080/"
    },
    "id": "sBD4wCQBfIfS",
    "outputId": "e7d5dc7c-de40-4f78-921a-7219b1d700f5"
   },
   "outputs": [
    {
     "data": {
      "text/plain": [
       "850"
      ]
     },
     "execution_count": 8,
     "metadata": {},
     "output_type": "execute_result"
    }
   ],
   "source": [
    "len(binary_features.iloc[comments_train.index])"
   ]
  },
  {
   "cell_type": "code",
   "execution_count": 9,
   "metadata": {
    "id": "Yhjt-CU8fIho"
   },
   "outputs": [],
   "source": [
    "binary_features_train = binary_features.iloc[comments_train.index].astype(int)\n",
    "binary_features_test = binary_features.iloc[comments_test.index].astype(int)"
   ]
  },
  {
   "cell_type": "code",
   "execution_count": 10,
   "metadata": {
    "colab": {
     "base_uri": "https://localhost:8080/"
    },
    "id": "qUGJM0w-fIju",
    "outputId": "e0de35a9-117c-4197-c656-e800ca8f4fc3"
   },
   "outputs": [
    {
     "data": {
      "text/plain": [
       "[482]"
      ]
     },
     "execution_count": 10,
     "metadata": {},
     "output_type": "execute_result"
    }
   ],
   "source": [
    "x_train_array = x_train.toarray()\n",
    "x_test_array = x_test.toarray()\n",
    "\n",
    "x_train_df = pd.DataFrame(x_train_array, index = comments_train.index)\n",
    "x_test_df = pd.DataFrame(x_test_array, index = comments_test.index)\n",
    "\n",
    "train_df =  pd.concat([binary_features_train, x_train_df], axis=1)\n",
    "test_df = pd.concat([binary_features_test, x_test_df], axis=1)\n",
    "input_shape = [train_df.shape[1]]\n",
    "input_shape"
   ]
  },
  {
   "cell_type": "code",
   "execution_count": 11,
   "metadata": {
    "id": "gigFQnuwfImT"
   },
   "outputs": [],
   "source": [
    "from tensorflow import keras\n",
    "from tensorflow.keras import layers\n",
    "\n",
    "# YOUR CODE HERE: define the model given in the diagram\n",
    "model = keras.Sequential([\n",
    "    layers.BatchNormalization(input_shape = input_shape),\n",
    "    layers.Dense(128, activation = \"relu\"),\n",
    "    layers.BatchNormalization(),\n",
    "    layers.Dropout(0.5),\n",
    "\n",
    "    layers.Dense(128, activation = \"relu\"),\n",
    "    layers.BatchNormalization(),\n",
    "    layers.Dropout(0.5),\n",
    "\n",
    "    layers.Dense(1, activation = \"sigmoid\")\n",
    "])"
   ]
  },
  {
   "cell_type": "code",
   "execution_count": 12,
   "metadata": {
    "id": "xJrelnndfIoY"
   },
   "outputs": [],
   "source": [
    "model.compile(\n",
    "    optimizer = \"adam\",\n",
    "    loss = \"binary_crossentropy\",\n",
    "    metrics = [\"binary_accuracy\"])"
   ]
  },
  {
   "cell_type": "code",
   "execution_count": 13,
   "metadata": {
    "colab": {
     "base_uri": "https://localhost:8080/",
     "height": 1000
    },
    "id": "Q_VbLHrNfIqt",
    "outputId": "9b3a6e04-d599-4c33-f6cd-8fdbee85a462"
   },
   "outputs": [
    {
     "name": "stdout",
     "output_type": "stream",
     "text": [
      "Epoch 1/50\n",
      "27/27 [==============================] - 4s 26ms/step - loss: 0.9104 - binary_accuracy: 0.5506 - val_loss: 0.6396 - val_binary_accuracy: 0.8333\n",
      "Epoch 2/50\n",
      "27/27 [==============================] - 0s 9ms/step - loss: 0.5929 - binary_accuracy: 0.6976 - val_loss: 0.5699 - val_binary_accuracy: 0.9200\n",
      "Epoch 3/50\n",
      "27/27 [==============================] - 0s 8ms/step - loss: 0.4113 - binary_accuracy: 0.8118 - val_loss: 0.4656 - val_binary_accuracy: 0.9933\n",
      "Epoch 4/50\n",
      "27/27 [==============================] - 0s 7ms/step - loss: 0.2861 - binary_accuracy: 0.8859 - val_loss: 0.3517 - val_binary_accuracy: 0.9933\n",
      "Epoch 5/50\n",
      "27/27 [==============================] - 0s 7ms/step - loss: 0.1987 - binary_accuracy: 0.9200 - val_loss: 0.2462 - val_binary_accuracy: 1.0000\n",
      "Epoch 6/50\n",
      "27/27 [==============================] - 0s 7ms/step - loss: 0.1516 - binary_accuracy: 0.9435 - val_loss: 0.1642 - val_binary_accuracy: 1.0000\n",
      "Epoch 7/50\n",
      "27/27 [==============================] - 0s 8ms/step - loss: 0.1352 - binary_accuracy: 0.9447 - val_loss: 0.1022 - val_binary_accuracy: 1.0000\n",
      "Epoch 8/50\n",
      "27/27 [==============================] - 0s 7ms/step - loss: 0.0850 - binary_accuracy: 0.9706 - val_loss: 0.0624 - val_binary_accuracy: 1.0000\n",
      "Epoch 9/50\n",
      "27/27 [==============================] - 0s 9ms/step - loss: 0.0770 - binary_accuracy: 0.9753 - val_loss: 0.0382 - val_binary_accuracy: 1.0000\n",
      "Epoch 10/50\n",
      "27/27 [==============================] - 0s 9ms/step - loss: 0.0456 - binary_accuracy: 0.9894 - val_loss: 0.0263 - val_binary_accuracy: 1.0000\n",
      "Epoch 11/50\n",
      "27/27 [==============================] - 0s 8ms/step - loss: 0.0656 - binary_accuracy: 0.9765 - val_loss: 0.0187 - val_binary_accuracy: 1.0000\n",
      "Epoch 12/50\n",
      "27/27 [==============================] - 0s 7ms/step - loss: 0.0491 - binary_accuracy: 0.9847 - val_loss: 0.0130 - val_binary_accuracy: 1.0000\n",
      "Epoch 13/50\n",
      "27/27 [==============================] - 0s 9ms/step - loss: 0.0280 - binary_accuracy: 0.9941 - val_loss: 0.0106 - val_binary_accuracy: 1.0000\n",
      "Epoch 14/50\n",
      "27/27 [==============================] - 0s 8ms/step - loss: 0.0357 - binary_accuracy: 0.9894 - val_loss: 0.0092 - val_binary_accuracy: 1.0000\n",
      "Epoch 15/50\n",
      "27/27 [==============================] - 0s 8ms/step - loss: 0.0264 - binary_accuracy: 0.9941 - val_loss: 0.0088 - val_binary_accuracy: 1.0000\n",
      "Epoch 16/50\n",
      "27/27 [==============================] - 0s 8ms/step - loss: 0.0185 - binary_accuracy: 0.9953 - val_loss: 0.0089 - val_binary_accuracy: 1.0000\n",
      "Epoch 17/50\n",
      "27/27 [==============================] - 0s 7ms/step - loss: 0.0190 - binary_accuracy: 0.9976 - val_loss: 0.0092 - val_binary_accuracy: 1.0000\n",
      "Epoch 18/50\n",
      "27/27 [==============================] - 0s 10ms/step - loss: 0.0162 - binary_accuracy: 0.9965 - val_loss: 0.0097 - val_binary_accuracy: 1.0000\n",
      "Epoch 19/50\n",
      "27/27 [==============================] - 0s 11ms/step - loss: 0.0256 - binary_accuracy: 0.9906 - val_loss: 0.0109 - val_binary_accuracy: 1.0000\n"
     ]
    },
    {
     "data": {
      "text/plain": [
       "<Axes: title={'center': 'Accuracy'}>"
      ]
     },
     "execution_count": 13,
     "metadata": {},
     "output_type": "execute_result"
    },
    {
     "data": {
      "image/png": "[encoded data removed]",
      "text/plain": [
       "<Figure size 640x480 with 1 Axes>"
      ]
     },
     "metadata": {},
     "output_type": "display_data"
    },
    {
     "data": {
      "image/png": "[encoded data removed]",
      "text/plain": [
       "<Figure size 640x480 with 1 Axes>"
      ]
     },
     "metadata": {},
     "output_type": "display_data"
    }
   ],
   "source": [
    "early_stopping = keras.callbacks.EarlyStopping(\n",
    "    patience=5,\n",
    "    min_delta=0.001,\n",
    "    restore_best_weights=True,\n",
    ")\n",
    "history = model.fit(\n",
    "    train_df, y_train,\n",
    "    validation_data=(test_df, y_test),\n",
    "    batch_size=32,\n",
    "    epochs=50,\n",
    "    callbacks=[early_stopping],\n",
    ")\n",
    "\n",
    "history_df = pd.DataFrame(history.history)\n",
    "history_df.loc[:, ['loss', 'val_loss']].plot(title=\"Cross-entropy\")\n",
    "history_df.loc[:, ['binary_accuracy', 'val_binary_accuracy']].plot(title=\"Accuracy\")"
   ]
  },
  {
   "cell_type": "code",
   "execution_count": 14,
   "metadata": {},
   "outputs": [
    {
     "name": "stdout",
     "output_type": "stream",
     "text": [
      "5/5 [==============================] - 0s 4ms/step\n",
      "              precision    recall  f1-score   support\n",
      "\n",
      "       False       1.00      1.00      1.00        81\n",
      "        True       1.00      1.00      1.00        69\n",
      "\n",
      "    accuracy                           1.00       150\n",
      "   macro avg       1.00      1.00      1.00       150\n",
      "weighted avg       1.00      1.00      1.00       150\n",
      "\n"
     ]
    }
   ],
   "source": [
    "from sklearn.metrics import classification_report\n",
    "\n",
    "# Predictions on test data\n",
    "y_pred = model.predict(test_df)\n",
    "y_pred_classes = (y_pred > 0.5).astype(\"int32\")\n",
    "\n",
    "# Classification report\n",
    "print(classification_report(y_test, y_pred_classes))\n"
   ]
  },
  {
   "cell_type": "code",
   "execution_count": 13,
   "metadata": {
    "colab": {
     "base_uri": "https://localhost:8080/"
    },
    "id": "LnFrwKBbfItN",
    "outputId": "0c31b408-0cd7-4bbb-b8fb-32ca1457669e"
   },
   "outputs": [
    {
     "data": {
      "text/plain": [
       "['toxic_comments_model.joblib']"
      ]
     },
     "execution_count": 13,
     "metadata": {},
     "output_type": "execute_result"
    }
   ],
   "source": [
    "import joblib\n",
    "\n",
    "# Save the model\n",
    "joblib.dump(model, 'toxic_comments_model.joblib')\n"
   ]
  },
  {
   "cell_type": "code",
   "execution_count": 14,
   "metadata": {
    "colab": {
     "base_uri": "https://localhost:8080/"
    },
    "id": "tT28s5aBfIvb",
    "outputId": "caab124e-c3a2-40d4-f1ea-8c3f25ddf6dd"
   },
   "outputs": [
    {
     "data": {
      "text/plain": [
       "['tfidf_vectorizer.joblib']"
      ]
     },
     "execution_count": 14,
     "metadata": {},
     "output_type": "execute_result"
    }
   ],
   "source": [
    "\n",
    "\n",
    "# Save the TF-IDF vectorizer\n",
    "joblib.dump(vectorizer, 'tfidf_vectorizer.joblib')\n"
   ]
  },
  {
   "cell_type": "code",
   "execution_count": null,
   "metadata": {
    "id": "cezyYDETfI1O"
   },
   "outputs": [],
   "source": []
  }
 ],
 "metadata": {
  "colab": {
   "provenance": []
  },
  "kernelspec": {
   "display_name": "Python 3 (ipykernel)",
   "language": "python",
   "name": "python3"
  },
  "language_info": {
   "codemirror_mode": {
    "name": "ipython",
    "version": 3
   },
   "file_extension": ".py",
   "mimetype": "text/x-python",
   "name": "python",
   "nbconvert_exporter": "python",
   "pygments_lexer": "ipython3",
   "version": "3.10.9"
  }
 },
 "nbformat": 4,
 "nbformat_minor": 1
}
